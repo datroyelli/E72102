{
 "cells": [
  {
   "cell_type": "markdown",
   "source": [
    "Análisis de residuales con What-If\n",
    "=================================="
   ],
   "metadata": {}
  },
  {
   "cell_type": "markdown",
   "source": [
    "What-If (también conodido como WIT) es una herramienta que provee una simple interfaz de usuario para exploración y entendimiento de modelos de aprendizaje automático entrenados. Se trata de un plug-in para Tensorboard que nos permite ejecutar el modelo sobre un conjunto de datos para luego evaluar de forma visual sus resultados. Adicionalmente nos permite editar cada una de las muestras sobre las que ejecutamos el modelo para investigar el efecto que tiene sobre el modelo.\n",
    "\n",
    "Esta herramienta se puede utilizar en modelos que cumplan con las siguientes condiciones:\n",
    " - El modelo debe poder ejecutarse utilizando [TensorFlow Serving](https://github.com/tensorflow/serving) utilizando las APIs `classify`, `regress` o `predict`.\n",
    " - El conjunto de datos de validación debe estar en formato `TFRecord`."
   ],
   "metadata": {}
  },
  {
   "cell_type": "markdown",
   "source": [],
   "metadata": {}
  }
 ],
 "metadata": {
  "interpreter": {
   "hash": "bea38c2984299ac640e8421861d34b2e05ee614f6236d2975c05eeb77366835f"
  },
  "kernelspec": {
   "display_name": "Python 3.8.5 64-bit ('base': conda)",
   "name": "python3"
  },
  "language_info": {
   "name": "python",
   "version": ""
  },
  "orig_nbformat": 4
 },
 "nbformat": 4,
 "nbformat_minor": 2
}