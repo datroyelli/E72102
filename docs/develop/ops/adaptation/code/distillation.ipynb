{
 "cells": [
  {
   "cell_type": "markdown",
   "source": [
    "Distillation\n",
    "============\n",
    "\n",
    "Distillation es una técnica en la cual se entrena un modelo *estudiante* para que imite otro modelo, el cual es mas grande y potente."
   ],
   "metadata": {}
  }
 ],
 "metadata": {
  "orig_nbformat": 4,
  "language_info": {
   "name": "python"
  }
 },
 "nbformat": 4,
 "nbformat_minor": 2
}